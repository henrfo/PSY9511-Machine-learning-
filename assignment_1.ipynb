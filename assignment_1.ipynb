{
 "cells": [
  {
   "cell_type": "markdown",
   "metadata": {},
   "source": [
    "# Assignment 1"
   ]
  },
  {
   "cell_type": "markdown",
   "metadata": {},
   "source": [
    "In this week's exercise you will focus on getting a working programming environment up and running on your own computer, and do some simple data manipulation. You will also answer some somewhat theoretical questions to start your thought processes on how to use machine learning. You can submit this assignment in whatever readable format you like. A Jupyter Notebook (for Python) or Quarto (for R) are recommended, but scripts are also fine. When the exercises involve coding, make sure you show both the output and the code you used to produce it. I should be able to copy your code, run it on my own machine, and get the same results."
   ]
  },
  {
   "cell_type": "markdown",
   "metadata": {},
   "source": [
    "## Exercise 1\n",
    "\n",
    "Follow the steps in Chapter 2.3 of Introduction to Statistical Learning to make sure your system is set up correctly, whether you want to use Python or R. Then do the following exercises:"
   ]
  },
  {
   "cell_type": "code",
   "execution_count": 1,
   "metadata": {},
   "outputs": [
    {
     "data": {
      "image/png": "[encoded data removed]",
      "text/plain": [
       "<Figure size 640x480 with 1 Axes>"
      ]
     },
     "metadata": {},
     "output_type": "display_data"
    }
   ],
   "source": [
    "# Create a vector of 100 standard normally distributed numbers and visualize them with a histogram.\n",
    "\n",
    "import numpy as np\n",
    "import matplotlib.pyplot as plt\n",
    "\n",
    "mean = 0\n",
    "std = 1\n",
    "vector_size = 100\n",
    "\n",
    "gaussian_vector = np.random.normal(mean, std, vector_size)\n",
    "\n",
    "plt.hist(gaussian_vector, bins=8)\n",
    "plt.title('Histogram')\n",
    "plt.xlabel('Values')\n",
    "plt.ylabel('Frequency')\n",
    "plt.show()"
   ]
  },
  {
   "cell_type": "code",
   "execution_count": 2,
   "metadata": {},
   "outputs": [
    {
     "name": "stdout",
     "output_type": "stream",
     "text": [
      "                     mpg  cylinders  displacement  horsepower  weight  \\\n",
      "name                                                                    \n",
      "ford torino         17.0          8         302.0         140    3449   \n",
      "plymouth fury iii   14.0          8         440.0         215    4312   \n",
      "pontiac catalina    14.0          8         455.0         225    4425   \n",
      "amc ambassador dpl  15.0          8         390.0         190    3850   \n",
      "\n",
      "                    acceleration  year  origin  \n",
      "name                                            \n",
      "ford torino                 10.5    70       1  \n",
      "plymouth fury iii            8.5    70       1  \n",
      "pontiac catalina            10.0    70       1  \n",
      "amc ambassador dpl           8.5    70       1  \n"
     ]
    }
   ],
   "source": [
    "# Show rows 5, 8, 9, and 10 of the Auto dataset.\n",
    "\n",
    "from ISLP import load_data\n",
    "\n",
    "# Load\n",
    "Auto = load_data('Auto')\n",
    "\n",
    "# View\n",
    "# print(Auto.head())\n",
    "\n",
    "print(Auto.iloc[[4, 7, 8, 9]])"
   ]
  },
  {
   "cell_type": "code",
   "execution_count": 3,
   "metadata": {},
   "outputs": [
    {
     "data": {
      "text/html": [
       "<div>\n",
       "<style scoped>\n",
       "    .dataframe tbody tr th:only-of-type {\n",
       "        vertical-align: middle;\n",
       "    }\n",
       "\n",
       "    .dataframe tbody tr th {\n",
       "        vertical-align: top;\n",
       "    }\n",
       "\n",
       "    .dataframe thead th {\n",
       "        text-align: right;\n",
       "    }\n",
       "</style>\n",
       "<table border=\"1\" class=\"dataframe\">\n",
       "  <thead>\n",
       "    <tr style=\"text-align: right;\">\n",
       "      <th></th>\n",
       "      <th>acceleration</th>\n",
       "      <th>year</th>\n",
       "      <th>origin</th>\n",
       "    </tr>\n",
       "    <tr>\n",
       "      <th>name</th>\n",
       "      <th></th>\n",
       "      <th></th>\n",
       "      <th></th>\n",
       "    </tr>\n",
       "  </thead>\n",
       "  <tbody>\n",
       "    <tr>\n",
       "      <th>chevrolet chevelle malibu</th>\n",
       "      <td>12.0</td>\n",
       "      <td>70</td>\n",
       "      <td>1</td>\n",
       "    </tr>\n",
       "    <tr>\n",
       "      <th>buick skylark 320</th>\n",
       "      <td>11.5</td>\n",
       "      <td>70</td>\n",
       "      <td>1</td>\n",
       "    </tr>\n",
       "    <tr>\n",
       "      <th>plymouth satellite</th>\n",
       "      <td>11.0</td>\n",
       "      <td>70</td>\n",
       "      <td>1</td>\n",
       "    </tr>\n",
       "    <tr>\n",
       "      <th>amc rebel sst</th>\n",
       "      <td>12.0</td>\n",
       "      <td>70</td>\n",
       "      <td>1</td>\n",
       "    </tr>\n",
       "    <tr>\n",
       "      <th>ford torino</th>\n",
       "      <td>10.5</td>\n",
       "      <td>70</td>\n",
       "      <td>1</td>\n",
       "    </tr>\n",
       "    <tr>\n",
       "      <th>...</th>\n",
       "      <td>...</td>\n",
       "      <td>...</td>\n",
       "      <td>...</td>\n",
       "    </tr>\n",
       "    <tr>\n",
       "      <th>ford mustang gl</th>\n",
       "      <td>15.6</td>\n",
       "      <td>82</td>\n",
       "      <td>1</td>\n",
       "    </tr>\n",
       "    <tr>\n",
       "      <th>vw pickup</th>\n",
       "      <td>24.6</td>\n",
       "      <td>82</td>\n",
       "      <td>2</td>\n",
       "    </tr>\n",
       "    <tr>\n",
       "      <th>dodge rampage</th>\n",
       "      <td>11.6</td>\n",
       "      <td>82</td>\n",
       "      <td>1</td>\n",
       "    </tr>\n",
       "    <tr>\n",
       "      <th>ford ranger</th>\n",
       "      <td>18.6</td>\n",
       "      <td>82</td>\n",
       "      <td>1</td>\n",
       "    </tr>\n",
       "    <tr>\n",
       "      <th>chevy s-10</th>\n",
       "      <td>19.4</td>\n",
       "      <td>82</td>\n",
       "      <td>1</td>\n",
       "    </tr>\n",
       "  </tbody>\n",
       "</table>\n",
       "<p>392 rows × 3 columns</p>\n",
       "</div>"
      ],
      "text/plain": [
       "                           acceleration  year  origin\n",
       "name                                                 \n",
       "chevrolet chevelle malibu          12.0    70       1\n",
       "buick skylark 320                  11.5    70       1\n",
       "plymouth satellite                 11.0    70       1\n",
       "amc rebel sst                      12.0    70       1\n",
       "ford torino                        10.5    70       1\n",
       "...                                 ...   ...     ...\n",
       "ford mustang gl                    15.6    82       1\n",
       "vw pickup                          24.6    82       2\n",
       "dodge rampage                      11.6    82       1\n",
       "ford ranger                        18.6    82       1\n",
       "chevy s-10                         19.4    82       1\n",
       "\n",
       "[392 rows x 3 columns]"
      ]
     },
     "execution_count": 3,
     "metadata": {},
     "output_type": "execute_result"
    }
   ],
   "source": [
    "# Show the last three columns of the Auto dataset.\n",
    "Auto.iloc[:, -3:]"
   ]
  },
  {
   "cell_type": "code",
   "execution_count": 4,
   "metadata": {},
   "outputs": [
    {
     "data": {
      "text/html": [
       "<div>\n",
       "<style scoped>\n",
       "    .dataframe tbody tr th:only-of-type {\n",
       "        vertical-align: middle;\n",
       "    }\n",
       "\n",
       "    .dataframe tbody tr th {\n",
       "        vertical-align: top;\n",
       "    }\n",
       "\n",
       "    .dataframe thead th {\n",
       "        text-align: right;\n",
       "    }\n",
       "</style>\n",
       "<table border=\"1\" class=\"dataframe\">\n",
       "  <thead>\n",
       "    <tr style=\"text-align: right;\">\n",
       "      <th></th>\n",
       "      <th>mpg</th>\n",
       "      <th>cylinders</th>\n",
       "      <th>displacement</th>\n",
       "      <th>horsepower</th>\n",
       "      <th>weight</th>\n",
       "      <th>acceleration</th>\n",
       "      <th>year</th>\n",
       "      <th>origin</th>\n",
       "    </tr>\n",
       "    <tr>\n",
       "      <th>name</th>\n",
       "      <th></th>\n",
       "      <th></th>\n",
       "      <th></th>\n",
       "      <th></th>\n",
       "      <th></th>\n",
       "      <th></th>\n",
       "      <th></th>\n",
       "      <th></th>\n",
       "    </tr>\n",
       "  </thead>\n",
       "  <tbody>\n",
       "    <tr>\n",
       "      <th>audi 5000</th>\n",
       "      <td>20.3</td>\n",
       "      <td>5</td>\n",
       "      <td>131.0</td>\n",
       "      <td>103</td>\n",
       "      <td>2830</td>\n",
       "      <td>15.9</td>\n",
       "      <td>78</td>\n",
       "      <td>2</td>\n",
       "    </tr>\n",
       "    <tr>\n",
       "      <th>mercedes benz 300d</th>\n",
       "      <td>25.4</td>\n",
       "      <td>5</td>\n",
       "      <td>183.0</td>\n",
       "      <td>77</td>\n",
       "      <td>3530</td>\n",
       "      <td>20.1</td>\n",
       "      <td>79</td>\n",
       "      <td>2</td>\n",
       "    </tr>\n",
       "    <tr>\n",
       "      <th>audi 5000s (diesel)</th>\n",
       "      <td>36.4</td>\n",
       "      <td>5</td>\n",
       "      <td>121.0</td>\n",
       "      <td>67</td>\n",
       "      <td>2950</td>\n",
       "      <td>19.9</td>\n",
       "      <td>80</td>\n",
       "      <td>2</td>\n",
       "    </tr>\n",
       "  </tbody>\n",
       "</table>\n",
       "</div>"
      ],
      "text/plain": [
       "                      mpg  cylinders  displacement  horsepower  weight  \\\n",
       "name                                                                     \n",
       "audi 5000            20.3          5         131.0         103    2830   \n",
       "mercedes benz 300d   25.4          5         183.0          77    3530   \n",
       "audi 5000s (diesel)  36.4          5         121.0          67    2950   \n",
       "\n",
       "                     acceleration  year  origin  \n",
       "name                                             \n",
       "audi 5000                    15.9    78       2  \n",
       "mercedes benz 300d           20.1    79       2  \n",
       "audi 5000s (diesel)          19.9    80       2  "
      ]
     },
     "execution_count": 4,
     "metadata": {},
     "output_type": "execute_result"
    }
   ],
   "source": [
    "# Show all cars with five cylinders in the Auto dataset.\n",
    "Auto[Auto['cylinders'] == 5]"
   ]
  },
  {
   "cell_type": "markdown",
   "metadata": {},
   "source": [
    "## Exercise 2\n",
    "\n",
    "According to Wikipedia \"Statistical bias is a systematic tendency in which the methods used to gather data and generate statistics present an inaccurate, skewed or biased depiction of reality\" and \"Variance is a measure of dispersion, meaning it is a measure of how far a set of numbers is spread out from their average value.\" Source: https://en.wikipedia.org/wiki/Bias_(statistics). and https://en.wikipedia.org/wiki/Variance.. \n",
    "\n",
    "In light of the Wikipedia definitions, answer the following questions:"
   ]
  },
  {
   "cell_type": "markdown",
   "metadata": {},
   "source": [
    "Now answer the following questions:\n",
    "\n",
    "##### Consider Figure 2.11 in Introduction to Statistical Learning.\n",
    "Imagine we have a new observation with feature value x=70, and we want to make a prediction. Why does a prediction produced using the linear regression fit (yellow line) have higher bias than a prediction produced using the spline fits (blue line and green line)?\n",
    "\n",
    "- The linear regression fit would have a higher bias because it assumes a linear pattern, which might not be true for the real underlaying data.\n",
    "\n",
    "##### Consider Figure 2.10 in Introduction to Statistical Learning. Why does the very flexible fit (green line) have high variance?\n",
    "- The green line has high variance because it very clearly follows the individual data patterns, potentially overfitting to random noise in our data rather than learning the broader, more generalizable patterns. In turn, this would likely lead to a poor fit to new data.\n",
    "\n",
    "\n",
    "##### Consider Figure 2.11 again. Do any of the lines underfit the data? Do any of the lines overfit the data? \n",
    "- The yellow line has low flexibility and high bias, and could potentially be said to underfit the data, as it systematically will represent the data inaccurately. The green line seems to overfit the data, as it has high flexibility and follows each individual data point very close, rather than learning the broader patterns of our data.\n",
    "\n",
    "##### Consider Figure 2.10 again. Do any of the lines underfit the data? Do any of the lines overfit the data?\n",
    "- The yellow line could potentially be said to underfit the data, as it also here systematically will represent the data inaccurately. The green line again seems to overfit the data, as it clearly follows each individual datapoint in our training data, which might not generalize well to a new dataset."
   ]
  },
  {
   "cell_type": "markdown",
   "metadata": {},
   "source": [
    "## Exercise 3\n",
    "\n",
    "Can you find an example of a paper within your field which uses machine learning? Please provide a link to the paper. If you cannot find any examples, could you perhaps think of a research question where machine learning could be useful?"
   ]
  },
  {
   "cell_type": "markdown",
   "metadata": {},
   "source": [
    "https://doi.org/10.1177/1745691617693393"
   ]
  }
 ],
 "metadata": {
  "kernelspec": {
   "display_name": "Python 3",
   "language": "python",
   "name": "python3"
  },
  "language_info": {
   "codemirror_mode": {
    "name": "ipython",
    "version": 3
   },
   "file_extension": ".py",
   "mimetype": "text/x-python",
   "name": "python",
   "nbconvert_exporter": "python",
   "pygments_lexer": "ipython3",
   "version": "3.11.13"
  }
 },
 "nbformat": 4,
 "nbformat_minor": 2
}
